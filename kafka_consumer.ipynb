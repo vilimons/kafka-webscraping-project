{
 "cells": [
  {
   "cell_type": "code",
   "execution_count": null,
   "metadata": {},
   "outputs": [],
   "source": [
    "import json\n",
    "from time import sleep\n",
    "from json import dumps, loads\n",
    "from kafka import KafkaConsumer\n",
    "from s3fs import S3FileSystem"
   ]
  },
  {
   "cell_type": "code",
   "execution_count": null,
   "metadata": {},
   "outputs": [],
   "source": [
    "# Kafka Consumer configuration\n",
    "consumer = KafkaConsumer('demo-cluster-1',\n",
    "                         bootstrap_servers=['54-175-23-22:9092'],\n",
    "                         value_serializer=lambda x:\n",
    "                         dumps(x).encode('uft-8'))"
   ]
  },
  {
   "cell_type": "code",
   "execution_count": null,
   "metadata": {},
   "outputs": [],
   "source": [
    "# Test\n",
    "# for c in consumer:\n",
    "    #print(c.value)"
   ]
  },
  {
   "cell_type": "code",
   "execution_count": null,
   "metadata": {},
   "outputs": [],
   "source": [
    "# s3 Bucket configuration\n",
    "s3 = S3FileSystem()"
   ]
  },
  {
   "cell_type": "code",
   "execution_count": null,
   "metadata": {},
   "outputs": [],
   "source": [
    "# Saving the consumed data to a s3 bucket\n",
    "\n",
    "for count, i in enumerate(consumer):\n",
    "    with s3.open(\"s3://kafka-webscrapped-intel-prices/intel_prices_{}.json\".format(count), 'w') as file:\n",
    "        json.dump(i.value, file)"
   ]
  }
 ],
 "metadata": {
  "kernelspec": {
   "display_name": "Python 3.10.10 ('virtualenv')",
   "language": "python",
   "name": "python3"
  },
  "language_info": {
   "name": "python",
   "version": "3.10.10"
  },
  "orig_nbformat": 4,
  "vscode": {
   "interpreter": {
    "hash": "7c3dfa74e357c1a55bddec1b8a9244503ae517f164734c1fcbb455ab849678ba"
   }
  }
 },
 "nbformat": 4,
 "nbformat_minor": 2
}
