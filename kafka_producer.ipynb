{
 "cells": [
  {
   "cell_type": "code",
   "execution_count": null,
   "metadata": {},
   "outputs": [],
   "source": [
    "import pandas as pd\n",
    "import json\n",
    "from time import sleep\n",
    "from json import dumps\n",
    "from kafka import KafkaConsumer, KafkaProducer"
   ]
  },
  {
   "cell_type": "code",
   "execution_count": null,
   "metadata": {},
   "outputs": [],
   "source": [
    "# Kafka Producer configuration\n",
    "\n",
    "producer = KafkaProducer(bootstrap_servers=['54-175-23-22:9092'],\n",
    "                         value_serializer=lambda x:\n",
    "                         dumps(x).encode('uft-8'))"
   ]
  },
  {
   "cell_type": "code",
   "execution_count": null,
   "metadata": {},
   "outputs": [],
   "source": [
    "# Test\n",
    "producer.send('demo-cluster-1', value=\"{'name':'vitor'}\")"
   ]
  },
  {
   "cell_type": "code",
   "execution_count": null,
   "metadata": {},
   "outputs": [],
   "source": [
    "# DataFrame created from webscrapped data\n",
    "df = pd.read_csv('data/intel_prices_data.csv')"
   ]
  },
  {
   "cell_type": "code",
   "execution_count": null,
   "metadata": {},
   "outputs": [],
   "source": [
    "# Producing the dataframe data to Kafka consumer\n",
    "\n",
    "while True:\n",
    "    dict_prices = df.sample(1).to_dict(orient='records')[0]\n",
    "    producer.send('demo-cluster-1', value=dict_prices)\n",
    "    sleep(1)"
   ]
  },
  {
   "cell_type": "code",
   "execution_count": null,
   "metadata": {},
   "outputs": [],
   "source": [
    "# Clear data from Kafka server\n",
    "producer.flush()"
   ]
  }
 ],
 "metadata": {
  "kernelspec": {
   "display_name": "Python 3.10.10 ('virtualenv')",
   "language": "python",
   "name": "python3"
  },
  "language_info": {
   "codemirror_mode": {
    "name": "ipython",
    "version": 3
   },
   "file_extension": ".py",
   "mimetype": "text/x-python",
   "name": "python",
   "nbconvert_exporter": "python",
   "pygments_lexer": "ipython3",
   "version": "3.10.10"
  },
  "orig_nbformat": 4,
  "vscode": {
   "interpreter": {
    "hash": "7c3dfa74e357c1a55bddec1b8a9244503ae517f164734c1fcbb455ab849678ba"
   }
  }
 },
 "nbformat": 4,
 "nbformat_minor": 2
}
